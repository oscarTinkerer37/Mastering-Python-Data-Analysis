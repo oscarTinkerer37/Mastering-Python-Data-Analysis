{
 "cells": [
  {
   "cell_type": "code",
   "execution_count": 1,
   "id": "graduate-deposit",
   "metadata": {},
   "outputs": [],
   "source": [
    "%matplotlib inline\n",
    "import matplotlib.pyplot as plt\n",
    "import pandas as pd\n",
    "import numpy as np\n",
    "import os"
   ]
  },
  {
   "cell_type": "code",
   "execution_count": 2,
   "id": "secure-image",
   "metadata": {},
   "outputs": [
    {
     "data": {
      "text/plain": [
       "'C:\\\\Users\\\\obaer\\\\Documents\\\\python\\\\Mastering-Python-Data-Analysis-master'"
      ]
     },
     "execution_count": 2,
     "metadata": {},
     "output_type": "execute_result"
    }
   ],
   "source": [
    "os.getcwd()"
   ]
  },
  {
   "cell_type": "code",
   "execution_count": 3,
   "id": "minimal-greeting",
   "metadata": {},
   "outputs": [],
   "source": [
    "ch2data = 'C:\\\\Users\\\\obaer\\\\Documents\\\\python\\\\Mastering-Python-Data-Analysis-master\\\\Chapter 2\\\\data'"
   ]
  },
  {
   "cell_type": "code",
   "execution_count": 4,
   "id": "minute-federation",
   "metadata": {},
   "outputs": [],
   "source": [
    "gss_data = pd.read_stata(os.path.join(ch2data, 'GSS2012merged_R5.dta'), convert_categoricals = False)\n",
    "#El argumento convert_categoricals = False instruye a pandas a no intentar convertir los datos de las columnas a categóricos.\n",
    "#AKA factor data"
   ]
  },
  {
   "cell_type": "code",
   "execution_count": 5,
   "id": "gorgeous-scotland",
   "metadata": {},
   "outputs": [
    {
     "data": {
      "text/html": [
       "<div>\n",
       "<style scoped>\n",
       "    .dataframe tbody tr th:only-of-type {\n",
       "        vertical-align: middle;\n",
       "    }\n",
       "\n",
       "    .dataframe tbody tr th {\n",
       "        vertical-align: top;\n",
       "    }\n",
       "\n",
       "    .dataframe thead th {\n",
       "        text-align: right;\n",
       "    }\n",
       "</style>\n",
       "<table border=\"1\" class=\"dataframe\">\n",
       "  <thead>\n",
       "    <tr style=\"text-align: right;\">\n",
       "      <th></th>\n",
       "      <th>year</th>\n",
       "      <th>id</th>\n",
       "      <th>wrkstat</th>\n",
       "      <th>hrs1</th>\n",
       "      <th>hrs2</th>\n",
       "      <th>evwork</th>\n",
       "      <th>wrkslf</th>\n",
       "      <th>wrkgovt</th>\n",
       "      <th>occ10</th>\n",
       "      <th>indus10</th>\n",
       "      <th>...</th>\n",
       "      <th>getmar</th>\n",
       "      <th>getmar1</th>\n",
       "      <th>hapornot</th>\n",
       "      <th>grnsign</th>\n",
       "      <th>grnmoney</th>\n",
       "      <th>grndemo</th>\n",
       "      <th>grncon</th>\n",
       "      <th>finan4</th>\n",
       "      <th>enprbus</th>\n",
       "      <th>enprbfam</th>\n",
       "    </tr>\n",
       "  </thead>\n",
       "  <tbody>\n",
       "    <tr>\n",
       "      <th>0</th>\n",
       "      <td>2012</td>\n",
       "      <td>1</td>\n",
       "      <td>2.0</td>\n",
       "      <td>15.0</td>\n",
       "      <td>NaN</td>\n",
       "      <td>NaN</td>\n",
       "      <td>2.0</td>\n",
       "      <td>2.0</td>\n",
       "      <td>4800.0</td>\n",
       "      <td>7470.0</td>\n",
       "      <td>...</td>\n",
       "      <td>NaN</td>\n",
       "      <td>NaN</td>\n",
       "      <td>NaN</td>\n",
       "      <td>NaN</td>\n",
       "      <td>NaN</td>\n",
       "      <td>NaN</td>\n",
       "      <td>NaN</td>\n",
       "      <td>NaN</td>\n",
       "      <td>NaN</td>\n",
       "      <td>NaN</td>\n",
       "    </tr>\n",
       "    <tr>\n",
       "      <th>1</th>\n",
       "      <td>2012</td>\n",
       "      <td>2</td>\n",
       "      <td>2.0</td>\n",
       "      <td>30.0</td>\n",
       "      <td>NaN</td>\n",
       "      <td>NaN</td>\n",
       "      <td>2.0</td>\n",
       "      <td>2.0</td>\n",
       "      <td>2900.0</td>\n",
       "      <td>770.0</td>\n",
       "      <td>...</td>\n",
       "      <td>NaN</td>\n",
       "      <td>NaN</td>\n",
       "      <td>NaN</td>\n",
       "      <td>NaN</td>\n",
       "      <td>NaN</td>\n",
       "      <td>NaN</td>\n",
       "      <td>NaN</td>\n",
       "      <td>NaN</td>\n",
       "      <td>NaN</td>\n",
       "      <td>NaN</td>\n",
       "    </tr>\n",
       "    <tr>\n",
       "      <th>2</th>\n",
       "      <td>2012</td>\n",
       "      <td>3</td>\n",
       "      <td>1.0</td>\n",
       "      <td>60.0</td>\n",
       "      <td>NaN</td>\n",
       "      <td>NaN</td>\n",
       "      <td>2.0</td>\n",
       "      <td>2.0</td>\n",
       "      <td>1320.0</td>\n",
       "      <td>6070.0</td>\n",
       "      <td>...</td>\n",
       "      <td>NaN</td>\n",
       "      <td>NaN</td>\n",
       "      <td>NaN</td>\n",
       "      <td>NaN</td>\n",
       "      <td>NaN</td>\n",
       "      <td>NaN</td>\n",
       "      <td>NaN</td>\n",
       "      <td>NaN</td>\n",
       "      <td>NaN</td>\n",
       "      <td>NaN</td>\n",
       "    </tr>\n",
       "    <tr>\n",
       "      <th>3</th>\n",
       "      <td>2012</td>\n",
       "      <td>4</td>\n",
       "      <td>8.0</td>\n",
       "      <td>NaN</td>\n",
       "      <td>NaN</td>\n",
       "      <td>1.0</td>\n",
       "      <td>2.0</td>\n",
       "      <td>2.0</td>\n",
       "      <td>800.0</td>\n",
       "      <td>6990.0</td>\n",
       "      <td>...</td>\n",
       "      <td>NaN</td>\n",
       "      <td>NaN</td>\n",
       "      <td>NaN</td>\n",
       "      <td>NaN</td>\n",
       "      <td>NaN</td>\n",
       "      <td>NaN</td>\n",
       "      <td>NaN</td>\n",
       "      <td>NaN</td>\n",
       "      <td>NaN</td>\n",
       "      <td>NaN</td>\n",
       "    </tr>\n",
       "    <tr>\n",
       "      <th>4</th>\n",
       "      <td>2012</td>\n",
       "      <td>5</td>\n",
       "      <td>5.0</td>\n",
       "      <td>NaN</td>\n",
       "      <td>NaN</td>\n",
       "      <td>1.0</td>\n",
       "      <td>2.0</td>\n",
       "      <td>1.0</td>\n",
       "      <td>3800.0</td>\n",
       "      <td>9470.0</td>\n",
       "      <td>...</td>\n",
       "      <td>NaN</td>\n",
       "      <td>NaN</td>\n",
       "      <td>NaN</td>\n",
       "      <td>NaN</td>\n",
       "      <td>NaN</td>\n",
       "      <td>NaN</td>\n",
       "      <td>NaN</td>\n",
       "      <td>NaN</td>\n",
       "      <td>NaN</td>\n",
       "      <td>NaN</td>\n",
       "    </tr>\n",
       "  </tbody>\n",
       "</table>\n",
       "<p>5 rows × 1069 columns</p>\n",
       "</div>"
      ],
      "text/plain": [
       "   year  id  wrkstat  hrs1  hrs2  evwork  wrkslf  wrkgovt   occ10  indus10  \\\n",
       "0  2012   1      2.0  15.0   NaN     NaN     2.0      2.0  4800.0   7470.0   \n",
       "1  2012   2      2.0  30.0   NaN     NaN     2.0      2.0  2900.0    770.0   \n",
       "2  2012   3      1.0  60.0   NaN     NaN     2.0      2.0  1320.0   6070.0   \n",
       "3  2012   4      8.0   NaN   NaN     1.0     2.0      2.0   800.0   6990.0   \n",
       "4  2012   5      5.0   NaN   NaN     1.0     2.0      1.0  3800.0   9470.0   \n",
       "\n",
       "   ...  getmar  getmar1  hapornot  grnsign  grnmoney  grndemo  grncon  finan4  \\\n",
       "0  ...     NaN      NaN       NaN      NaN       NaN      NaN     NaN     NaN   \n",
       "1  ...     NaN      NaN       NaN      NaN       NaN      NaN     NaN     NaN   \n",
       "2  ...     NaN      NaN       NaN      NaN       NaN      NaN     NaN     NaN   \n",
       "3  ...     NaN      NaN       NaN      NaN       NaN      NaN     NaN     NaN   \n",
       "4  ...     NaN      NaN       NaN      NaN       NaN      NaN     NaN     NaN   \n",
       "\n",
       "   enprbus  enprbfam  \n",
       "0      NaN       NaN  \n",
       "1      NaN       NaN  \n",
       "2      NaN       NaN  \n",
       "3      NaN       NaN  \n",
       "4      NaN       NaN  \n",
       "\n",
       "[5 rows x 1069 columns]"
      ]
     },
     "execution_count": 5,
     "metadata": {},
     "output_type": "execute_result"
    }
   ],
   "source": [
    "gss_data.head()"
   ]
  },
  {
   "cell_type": "code",
   "execution_count": 6,
   "id": "fundamental-combine",
   "metadata": {},
   "outputs": [],
   "source": [
    "gss_data.set_index('id', inplace = True) #columna id seleccionada como indice del dataframe."
   ]
  },
  {
   "cell_type": "code",
   "execution_count": 7,
   "id": "hungarian-advisory",
   "metadata": {},
   "outputs": [
    {
     "data": {
      "text/plain": [
       "\"gss_data.set_index('id')\\ngss_data.drop('id', 1, inplace = True)\\n#NO GOOD IN MY DATAFRAME. I JUST SET 'id' COLUMN AS INDEX COL FOR MY DATAFRAME AND IT WORKS FINE.\""
      ]
     },
     "execution_count": 7,
     "metadata": {},
     "output_type": "execute_result"
    }
   ],
   "source": [
    "\"\"\"gss_data.set_index('id')\n",
    "gss_data.drop('id', 1, inplace = True)\n",
    "#NO GOOD IN MY DATAFRAME. I JUST SET 'id' COLUMN AS INDEX COL FOR MY DATAFRAME AND IT WORKS FINE.\"\"\""
   ]
  },
  {
   "cell_type": "code",
   "execution_count": 8,
   "id": "backed-tractor",
   "metadata": {},
   "outputs": [
    {
     "data": {
      "text/html": [
       "<div>\n",
       "<style scoped>\n",
       "    .dataframe tbody tr th:only-of-type {\n",
       "        vertical-align: middle;\n",
       "    }\n",
       "\n",
       "    .dataframe tbody tr th {\n",
       "        vertical-align: top;\n",
       "    }\n",
       "\n",
       "    .dataframe thead th {\n",
       "        text-align: right;\n",
       "    }\n",
       "</style>\n",
       "<table border=\"1\" class=\"dataframe\">\n",
       "  <thead>\n",
       "    <tr style=\"text-align: right;\">\n",
       "      <th></th>\n",
       "      <th>year</th>\n",
       "      <th>wrkstat</th>\n",
       "      <th>hrs1</th>\n",
       "      <th>hrs2</th>\n",
       "      <th>evwork</th>\n",
       "      <th>wrkslf</th>\n",
       "      <th>wrkgovt</th>\n",
       "      <th>occ10</th>\n",
       "      <th>indus10</th>\n",
       "      <th>marital</th>\n",
       "      <th>...</th>\n",
       "      <th>getmar</th>\n",
       "      <th>getmar1</th>\n",
       "      <th>hapornot</th>\n",
       "      <th>grnsign</th>\n",
       "      <th>grnmoney</th>\n",
       "      <th>grndemo</th>\n",
       "      <th>grncon</th>\n",
       "      <th>finan4</th>\n",
       "      <th>enprbus</th>\n",
       "      <th>enprbfam</th>\n",
       "    </tr>\n",
       "    <tr>\n",
       "      <th>id</th>\n",
       "      <th></th>\n",
       "      <th></th>\n",
       "      <th></th>\n",
       "      <th></th>\n",
       "      <th></th>\n",
       "      <th></th>\n",
       "      <th></th>\n",
       "      <th></th>\n",
       "      <th></th>\n",
       "      <th></th>\n",
       "      <th></th>\n",
       "      <th></th>\n",
       "      <th></th>\n",
       "      <th></th>\n",
       "      <th></th>\n",
       "      <th></th>\n",
       "      <th></th>\n",
       "      <th></th>\n",
       "      <th></th>\n",
       "      <th></th>\n",
       "      <th></th>\n",
       "    </tr>\n",
       "  </thead>\n",
       "  <tbody>\n",
       "    <tr>\n",
       "      <th>1</th>\n",
       "      <td>2012</td>\n",
       "      <td>2.0</td>\n",
       "      <td>15.0</td>\n",
       "      <td>NaN</td>\n",
       "      <td>NaN</td>\n",
       "      <td>2.0</td>\n",
       "      <td>2.0</td>\n",
       "      <td>4800.0</td>\n",
       "      <td>7470.0</td>\n",
       "      <td>5.0</td>\n",
       "      <td>...</td>\n",
       "      <td>NaN</td>\n",
       "      <td>NaN</td>\n",
       "      <td>NaN</td>\n",
       "      <td>NaN</td>\n",
       "      <td>NaN</td>\n",
       "      <td>NaN</td>\n",
       "      <td>NaN</td>\n",
       "      <td>NaN</td>\n",
       "      <td>NaN</td>\n",
       "      <td>NaN</td>\n",
       "    </tr>\n",
       "    <tr>\n",
       "      <th>2</th>\n",
       "      <td>2012</td>\n",
       "      <td>2.0</td>\n",
       "      <td>30.0</td>\n",
       "      <td>NaN</td>\n",
       "      <td>NaN</td>\n",
       "      <td>2.0</td>\n",
       "      <td>2.0</td>\n",
       "      <td>2900.0</td>\n",
       "      <td>770.0</td>\n",
       "      <td>5.0</td>\n",
       "      <td>...</td>\n",
       "      <td>NaN</td>\n",
       "      <td>NaN</td>\n",
       "      <td>NaN</td>\n",
       "      <td>NaN</td>\n",
       "      <td>NaN</td>\n",
       "      <td>NaN</td>\n",
       "      <td>NaN</td>\n",
       "      <td>NaN</td>\n",
       "      <td>NaN</td>\n",
       "      <td>NaN</td>\n",
       "    </tr>\n",
       "    <tr>\n",
       "      <th>3</th>\n",
       "      <td>2012</td>\n",
       "      <td>1.0</td>\n",
       "      <td>60.0</td>\n",
       "      <td>NaN</td>\n",
       "      <td>NaN</td>\n",
       "      <td>2.0</td>\n",
       "      <td>2.0</td>\n",
       "      <td>1320.0</td>\n",
       "      <td>6070.0</td>\n",
       "      <td>1.0</td>\n",
       "      <td>...</td>\n",
       "      <td>NaN</td>\n",
       "      <td>NaN</td>\n",
       "      <td>NaN</td>\n",
       "      <td>NaN</td>\n",
       "      <td>NaN</td>\n",
       "      <td>NaN</td>\n",
       "      <td>NaN</td>\n",
       "      <td>NaN</td>\n",
       "      <td>NaN</td>\n",
       "      <td>NaN</td>\n",
       "    </tr>\n",
       "    <tr>\n",
       "      <th>4</th>\n",
       "      <td>2012</td>\n",
       "      <td>8.0</td>\n",
       "      <td>NaN</td>\n",
       "      <td>NaN</td>\n",
       "      <td>1.0</td>\n",
       "      <td>2.0</td>\n",
       "      <td>2.0</td>\n",
       "      <td>800.0</td>\n",
       "      <td>6990.0</td>\n",
       "      <td>1.0</td>\n",
       "      <td>...</td>\n",
       "      <td>NaN</td>\n",
       "      <td>NaN</td>\n",
       "      <td>NaN</td>\n",
       "      <td>NaN</td>\n",
       "      <td>NaN</td>\n",
       "      <td>NaN</td>\n",
       "      <td>NaN</td>\n",
       "      <td>NaN</td>\n",
       "      <td>NaN</td>\n",
       "      <td>NaN</td>\n",
       "    </tr>\n",
       "    <tr>\n",
       "      <th>5</th>\n",
       "      <td>2012</td>\n",
       "      <td>5.0</td>\n",
       "      <td>NaN</td>\n",
       "      <td>NaN</td>\n",
       "      <td>1.0</td>\n",
       "      <td>2.0</td>\n",
       "      <td>1.0</td>\n",
       "      <td>3800.0</td>\n",
       "      <td>9470.0</td>\n",
       "      <td>4.0</td>\n",
       "      <td>...</td>\n",
       "      <td>NaN</td>\n",
       "      <td>NaN</td>\n",
       "      <td>NaN</td>\n",
       "      <td>NaN</td>\n",
       "      <td>NaN</td>\n",
       "      <td>NaN</td>\n",
       "      <td>NaN</td>\n",
       "      <td>NaN</td>\n",
       "      <td>NaN</td>\n",
       "      <td>NaN</td>\n",
       "    </tr>\n",
       "  </tbody>\n",
       "</table>\n",
       "<p>5 rows × 1068 columns</p>\n",
       "</div>"
      ],
      "text/plain": [
       "    year  wrkstat  hrs1  hrs2  evwork  wrkslf  wrkgovt   occ10  indus10  \\\n",
       "id                                                                        \n",
       "1   2012      2.0  15.0   NaN     NaN     2.0      2.0  4800.0   7470.0   \n",
       "2   2012      2.0  30.0   NaN     NaN     2.0      2.0  2900.0    770.0   \n",
       "3   2012      1.0  60.0   NaN     NaN     2.0      2.0  1320.0   6070.0   \n",
       "4   2012      8.0   NaN   NaN     1.0     2.0      2.0   800.0   6990.0   \n",
       "5   2012      5.0   NaN   NaN     1.0     2.0      1.0  3800.0   9470.0   \n",
       "\n",
       "    marital  ...  getmar  getmar1  hapornot  grnsign  grnmoney  grndemo  \\\n",
       "id           ...                                                          \n",
       "1       5.0  ...     NaN      NaN       NaN      NaN       NaN      NaN   \n",
       "2       5.0  ...     NaN      NaN       NaN      NaN       NaN      NaN   \n",
       "3       1.0  ...     NaN      NaN       NaN      NaN       NaN      NaN   \n",
       "4       1.0  ...     NaN      NaN       NaN      NaN       NaN      NaN   \n",
       "5       4.0  ...     NaN      NaN       NaN      NaN       NaN      NaN   \n",
       "\n",
       "    grncon  finan4  enprbus  enprbfam  \n",
       "id                                     \n",
       "1      NaN     NaN      NaN       NaN  \n",
       "2      NaN     NaN      NaN       NaN  \n",
       "3      NaN     NaN      NaN       NaN  \n",
       "4      NaN     NaN      NaN       NaN  \n",
       "5      NaN     NaN      NaN       NaN  \n",
       "\n",
       "[5 rows x 1068 columns]"
      ]
     },
     "execution_count": 8,
     "metadata": {},
     "output_type": "execute_result"
    }
   ],
   "source": [
    "gss_data.head()"
   ]
  },
  {
   "cell_type": "code",
   "execution_count": 9,
   "id": "coordinated-passenger",
   "metadata": {},
   "outputs": [],
   "source": [
    "#SAVE to CSV\n",
    "gss_data.to_csv(os.path.join(ch2data, 'GSS2012idIndex.csv')) #Recordar este nombre"
   ]
  },
  {
   "cell_type": "code",
   "execution_count": 10,
   "id": "medical-startup",
   "metadata": {},
   "outputs": [
    {
     "data": {
      "text/html": [
       "<div>\n",
       "<style scoped>\n",
       "    .dataframe tbody tr th:only-of-type {\n",
       "        vertical-align: middle;\n",
       "    }\n",
       "\n",
       "    .dataframe tbody tr th {\n",
       "        vertical-align: top;\n",
       "    }\n",
       "\n",
       "    .dataframe thead th {\n",
       "        text-align: right;\n",
       "    }\n",
       "</style>\n",
       "<table border=\"1\" class=\"dataframe\">\n",
       "  <thead>\n",
       "    <tr style=\"text-align: right;\">\n",
       "      <th></th>\n",
       "      <th>hrs1</th>\n",
       "      <th>grnsign</th>\n",
       "    </tr>\n",
       "  </thead>\n",
       "  <tbody>\n",
       "    <tr>\n",
       "      <th>count</th>\n",
       "      <td>2854.000000</td>\n",
       "      <td>493.000000</td>\n",
       "    </tr>\n",
       "    <tr>\n",
       "      <th>mean</th>\n",
       "      <td>40.263840</td>\n",
       "      <td>1.764706</td>\n",
       "    </tr>\n",
       "    <tr>\n",
       "      <th>std</th>\n",
       "      <td>15.479284</td>\n",
       "      <td>0.424613</td>\n",
       "    </tr>\n",
       "    <tr>\n",
       "      <th>min</th>\n",
       "      <td>1.000000</td>\n",
       "      <td>1.000000</td>\n",
       "    </tr>\n",
       "    <tr>\n",
       "      <th>25%</th>\n",
       "      <td>35.000000</td>\n",
       "      <td>2.000000</td>\n",
       "    </tr>\n",
       "    <tr>\n",
       "      <th>50%</th>\n",
       "      <td>40.000000</td>\n",
       "      <td>2.000000</td>\n",
       "    </tr>\n",
       "    <tr>\n",
       "      <th>75%</th>\n",
       "      <td>50.000000</td>\n",
       "      <td>2.000000</td>\n",
       "    </tr>\n",
       "    <tr>\n",
       "      <th>max</th>\n",
       "      <td>89.000000</td>\n",
       "      <td>2.000000</td>\n",
       "    </tr>\n",
       "  </tbody>\n",
       "</table>\n",
       "</div>"
      ],
      "text/plain": [
       "              hrs1     grnsign\n",
       "count  2854.000000  493.000000\n",
       "mean     40.263840    1.764706\n",
       "std      15.479284    0.424613\n",
       "min       1.000000    1.000000\n",
       "25%      35.000000    2.000000\n",
       "50%      40.000000    2.000000\n",
       "75%      50.000000    2.000000\n",
       "max      89.000000    2.000000"
      ]
     },
     "execution_count": 10,
     "metadata": {},
     "output_type": "execute_result"
    }
   ],
   "source": [
    "gss_data[['hrs1', 'grnsign']].describe(include='all')"
   ]
  },
  {
   "cell_type": "code",
   "execution_count": 11,
   "id": "cordless-decimal",
   "metadata": {},
   "outputs": [
    {
     "data": {
      "image/png": "[encoded data removed]",
      "text/plain": [
       "<Figure size 432x288 with 1 Axes>"
      ]
     },
     "metadata": {
      "needs_background": "light"
     },
     "output_type": "display_data"
    }
   ],
   "source": [
    "#Univariate data, Histograms\n",
    "#Using 'age' column as example:\n",
    "gss_data['age'].hist() #first line: column named age, applying hist() method\n",
    "plt.grid() #second line: remove grid from plot (not needed) with plt.grid() function\n",
    "plt.locator_params(nbins=5);#third line: define number of tick locators, 5 makes for 4 ticks\n",
    "\n",
    "#Key feature of histogram is number of bins in which data is placed."
   ]
  },
  {
   "cell_type": "code",
   "execution_count": 12,
   "id": "international-finish",
   "metadata": {
    "scrolled": true
   },
   "outputs": [
    {
     "data": {
      "text/plain": [
       "Text(0, 0.5, 'Respondents')"
      ]
     },
     "execution_count": 12,
     "metadata": {},
     "output_type": "execute_result"
    },
    {
     "data": {
      "image/png": "[encoded data removed]",
      "text/plain": [
       "<Figure size 432x288 with 1 Axes>"
      ]
     },
     "metadata": {
      "needs_background": "light"
     },
     "output_type": "display_data"
    }
   ],
   "source": [
    "gss_data['age'].hist(bins=25) #increase bins to 25\n",
    "plt.grid() #remove grid\n",
    "plt.locator_params(nbins = 8) #playing with number of ticks for x-axis, 8 looks good\n",
    "plt.xlabel('Age')\n",
    "plt.ylabel('Respondents')"
   ]
  },
  {
   "cell_type": "code",
   "execution_count": 13,
   "id": "thick-cookbook",
   "metadata": {},
   "outputs": [
    {
     "data": {
      "text/plain": [
       "'The distribution is approximately unimodal, that is, there is only one\\nsignificant hump. Notice that in making this assessment, we do not take into\\naccount small gaps and peaks that are most likely due to sample randomness.\\n\\nThe distribution is asymmetrical, being somewhat skewed to the right, that is, it\\nhas a longer tail extending toward the high values.\\n\\nThe distribution ranges, approximately, from 20 to 90 years, and is centered\\nsomewhere near 50 years. It is not clear what is the mode, or highest point, of the\\ndistribution.\\n\\nThere are no unusual features, such as outliers, gaps, or clusters.\\n'"
      ]
     },
     "execution_count": 13,
     "metadata": {},
     "output_type": "execute_result"
    }
   ],
   "source": [
    "\"\"\"The distribution is approximately unimodal, that is, there is only one\n",
    "significant hump. Notice that in making this assessment, we do not take into\n",
    "account small gaps and peaks that are most likely due to sample randomness.\n",
    "\n",
    "The distribution is asymmetrical, being somewhat skewed to the right, that is, it\n",
    "has a longer tail extending toward the high values.\n",
    "\n",
    "The distribution ranges, approximately, from 20 to 90 years, and is centered\n",
    "somewhere near 50 years. It is not clear what is the mode, or highest point, of the\n",
    "distribution.\n",
    "\n",
    "There are no unusual features, such as outliers, gaps, or clusters.\n",
    "\"\"\""
   ]
  },
  {
   "cell_type": "code",
   "execution_count": 14,
   "id": "urban-driver",
   "metadata": {},
   "outputs": [
    {
     "data": {
      "text/html": [
       "<div>\n",
       "<style scoped>\n",
       "    .dataframe tbody tr th:only-of-type {\n",
       "        vertical-align: middle;\n",
       "    }\n",
       "\n",
       "    .dataframe tbody tr th {\n",
       "        vertical-align: top;\n",
       "    }\n",
       "\n",
       "    .dataframe thead th {\n",
       "        text-align: right;\n",
       "    }\n",
       "</style>\n",
       "<table border=\"1\" class=\"dataframe\">\n",
       "  <thead>\n",
       "    <tr style=\"text-align: right;\">\n",
       "      <th></th>\n",
       "      <th>realrinc</th>\n",
       "      <th>age</th>\n",
       "    </tr>\n",
       "    <tr>\n",
       "      <th>id</th>\n",
       "      <th></th>\n",
       "      <th></th>\n",
       "    </tr>\n",
       "  </thead>\n",
       "  <tbody>\n",
       "    <tr>\n",
       "      <th>1</th>\n",
       "      <td>NaN</td>\n",
       "      <td>22.0</td>\n",
       "    </tr>\n",
       "    <tr>\n",
       "      <th>2</th>\n",
       "      <td>NaN</td>\n",
       "      <td>21.0</td>\n",
       "    </tr>\n",
       "    <tr>\n",
       "      <th>3</th>\n",
       "      <td>58800.0</td>\n",
       "      <td>42.0</td>\n",
       "    </tr>\n",
       "    <tr>\n",
       "      <th>4</th>\n",
       "      <td>NaN</td>\n",
       "      <td>49.0</td>\n",
       "    </tr>\n",
       "    <tr>\n",
       "      <th>5</th>\n",
       "      <td>NaN</td>\n",
       "      <td>70.0</td>\n",
       "    </tr>\n",
       "    <tr>\n",
       "      <th>6</th>\n",
       "      <td>NaN</td>\n",
       "      <td>50.0</td>\n",
       "    </tr>\n",
       "    <tr>\n",
       "      <th>7</th>\n",
       "      <td>NaN</td>\n",
       "      <td>35.0</td>\n",
       "    </tr>\n",
       "    <tr>\n",
       "      <th>8</th>\n",
       "      <td>NaN</td>\n",
       "      <td>24.0</td>\n",
       "    </tr>\n",
       "    <tr>\n",
       "      <th>9</th>\n",
       "      <td>NaN</td>\n",
       "      <td>28.0</td>\n",
       "    </tr>\n",
       "    <tr>\n",
       "      <th>10</th>\n",
       "      <td>15925.0</td>\n",
       "      <td>28.0</td>\n",
       "    </tr>\n",
       "  </tbody>\n",
       "</table>\n",
       "</div>"
      ],
      "text/plain": [
       "    realrinc   age\n",
       "id                \n",
       "1        NaN  22.0\n",
       "2        NaN  21.0\n",
       "3    58800.0  42.0\n",
       "4        NaN  49.0\n",
       "5        NaN  70.0\n",
       "6        NaN  50.0\n",
       "7        NaN  35.0\n",
       "8        NaN  24.0\n",
       "9        NaN  28.0\n",
       "10   15925.0  28.0"
      ]
     },
     "execution_count": 14,
     "metadata": {},
     "output_type": "execute_result"
    }
   ],
   "source": [
    "#Distribution of income of respondents, dataframe first, then plot:\n",
    "inc_age = gss_data[['realrinc', 'age']]\n",
    "inc_age.head(10)\n",
    "#realrinc column has many missing values, as acknowledged in the textbook"
   ]
  },
  {
   "cell_type": "code",
   "execution_count": 15,
   "id": "federal-louisville",
   "metadata": {},
   "outputs": [
    {
     "data": {
      "text/html": [
       "<div>\n",
       "<style scoped>\n",
       "    .dataframe tbody tr th:only-of-type {\n",
       "        vertical-align: middle;\n",
       "    }\n",
       "\n",
       "    .dataframe tbody tr th {\n",
       "        vertical-align: top;\n",
       "    }\n",
       "\n",
       "    .dataframe thead th {\n",
       "        text-align: right;\n",
       "    }\n",
       "</style>\n",
       "<table border=\"1\" class=\"dataframe\">\n",
       "  <thead>\n",
       "    <tr style=\"text-align: right;\">\n",
       "      <th></th>\n",
       "      <th>realrinc</th>\n",
       "      <th>age</th>\n",
       "    </tr>\n",
       "    <tr>\n",
       "      <th>id</th>\n",
       "      <th></th>\n",
       "      <th></th>\n",
       "    </tr>\n",
       "  </thead>\n",
       "  <tbody>\n",
       "    <tr>\n",
       "      <th>3</th>\n",
       "      <td>58800.0</td>\n",
       "      <td>42.0</td>\n",
       "    </tr>\n",
       "    <tr>\n",
       "      <th>10</th>\n",
       "      <td>15925.0</td>\n",
       "      <td>28.0</td>\n",
       "    </tr>\n",
       "    <tr>\n",
       "      <th>12</th>\n",
       "      <td>3185.0</td>\n",
       "      <td>36.0</td>\n",
       "    </tr>\n",
       "    <tr>\n",
       "      <th>15</th>\n",
       "      <td>7962.5</td>\n",
       "      <td>52.0</td>\n",
       "    </tr>\n",
       "    <tr>\n",
       "      <th>16</th>\n",
       "      <td>26950.0</td>\n",
       "      <td>35.0</td>\n",
       "    </tr>\n",
       "    <tr>\n",
       "      <th>17</th>\n",
       "      <td>26950.0</td>\n",
       "      <td>36.0</td>\n",
       "    </tr>\n",
       "    <tr>\n",
       "      <th>18</th>\n",
       "      <td>22050.0</td>\n",
       "      <td>47.0</td>\n",
       "    </tr>\n",
       "    <tr>\n",
       "      <th>19</th>\n",
       "      <td>33075.0</td>\n",
       "      <td>55.0</td>\n",
       "    </tr>\n",
       "    <tr>\n",
       "      <th>23</th>\n",
       "      <td>33075.0</td>\n",
       "      <td>54.0</td>\n",
       "    </tr>\n",
       "    <tr>\n",
       "      <th>24</th>\n",
       "      <td>49000.0</td>\n",
       "      <td>45.0</td>\n",
       "    </tr>\n",
       "  </tbody>\n",
       "</table>\n",
       "</div>"
      ],
      "text/plain": [
       "    realrinc   age\n",
       "id                \n",
       "3    58800.0  42.0\n",
       "10   15925.0  28.0\n",
       "12    3185.0  36.0\n",
       "15    7962.5  52.0\n",
       "16   26950.0  35.0\n",
       "17   26950.0  36.0\n",
       "18   22050.0  47.0\n",
       "19   33075.0  55.0\n",
       "23   33075.0  54.0\n",
       "24   49000.0  45.0"
      ]
     },
     "execution_count": 15,
     "metadata": {},
     "output_type": "execute_result"
    }
   ],
   "source": [
    "inc_age = gss_data[['realrinc','age']].dropna()\n",
    "#dropping missing values and associated rows in 'age' column\n",
    "inc_age.head(10)"
   ]
  },
  {
   "cell_type": "code",
   "execution_count": 16,
   "id": "alpha-thanksgiving",
   "metadata": {},
   "outputs": [],
   "source": [
    "#inc_age.value_counts() #OUT: 1022 length"
   ]
  },
  {
   "cell_type": "code",
   "execution_count": 17,
   "id": "greatest-occurrence",
   "metadata": {},
   "outputs": [
    {
     "data": {
      "image/png": "[encoded data removed]",
      "text/plain": [
       "<Figure size 576x216 with 2 Axes>"
      ]
     },
     "metadata": {
      "needs_background": "light"
     },
     "output_type": "display_data"
    }
   ],
   "source": [
    "#We may now produce side-by-side histograms of the two variables, as shown:\n",
    "ax_list = inc_age.hist(bins = 30, figsize = (8, 3), xrot = 45)\n",
    "for ax in ax_list[0]:\n",
    "    ax.grid() #removes grid from axes\n",
    "    ax.locator_params(axis = 'x', nbins = 12)\n",
    "    ax.locator_params(axis = 'y', nbins = 6)\n",
    "#plt.grid()\n",
    "#hist() method: bins(known), figsize 8 by 3 inches, xrot = rotation of x axis labels 45deg.\n",
    "#the command returns a list of the axes objects of the figure:\n",
    "#this is saved to the ax_list variable. Then iterate over this list to modify the plots drawn."
   ]
  },
  {
   "cell_type": "code",
   "execution_count": 18,
   "id": "split-witness",
   "metadata": {},
   "outputs": [
    {
     "data": {
      "text/plain": [
       "realrinc    80\n",
       "age         80\n",
       "dtype: int64"
      ]
     },
     "execution_count": 18,
     "metadata": {},
     "output_type": "execute_result"
    }
   ],
   "source": [
    "#Querying system for income counts above 300k\n",
    "#(as there is a gap between 100k and 300k, ie few to no people earn more than 100k but less than 300k)\n",
    "inc_age[inc_age['realrinc']>3.0E5].count()\n",
    "#used Boolean operation"
   ]
  },
  {
   "cell_type": "code",
   "execution_count": 19,
   "id": "collected-pollution",
   "metadata": {},
   "outputs": [],
   "source": [
    "#80 people earn above 300k... looks unusual.\n",
    "#having a closer look at the data, namely, seeing the actual incomes and ages"
   ]
  },
  {
   "cell_type": "code",
   "execution_count": 20,
   "id": "distant-realtor",
   "metadata": {},
   "outputs": [
    {
     "data": {
      "text/html": [
       "<div>\n",
       "<style scoped>\n",
       "    .dataframe tbody tr th:only-of-type {\n",
       "        vertical-align: middle;\n",
       "    }\n",
       "\n",
       "    .dataframe tbody tr th {\n",
       "        vertical-align: top;\n",
       "    }\n",
       "\n",
       "    .dataframe thead th {\n",
       "        text-align: right;\n",
       "    }\n",
       "</style>\n",
       "<table border=\"1\" class=\"dataframe\">\n",
       "  <thead>\n",
       "    <tr style=\"text-align: right;\">\n",
       "      <th></th>\n",
       "      <th>realrinc</th>\n",
       "      <th>age</th>\n",
       "    </tr>\n",
       "    <tr>\n",
       "      <th>id</th>\n",
       "      <th></th>\n",
       "      <th></th>\n",
       "    </tr>\n",
       "  </thead>\n",
       "  <tbody>\n",
       "    <tr>\n",
       "      <th>43</th>\n",
       "      <td>341672.3793</td>\n",
       "      <td>51.0</td>\n",
       "    </tr>\n",
       "    <tr>\n",
       "      <th>44</th>\n",
       "      <td>341672.3793</td>\n",
       "      <td>57.0</td>\n",
       "    </tr>\n",
       "    <tr>\n",
       "      <th>45</th>\n",
       "      <td>341672.3793</td>\n",
       "      <td>44.0</td>\n",
       "    </tr>\n",
       "    <tr>\n",
       "      <th>48</th>\n",
       "      <td>341672.3793</td>\n",
       "      <td>68.0</td>\n",
       "    </tr>\n",
       "    <tr>\n",
       "      <th>55</th>\n",
       "      <td>341672.3793</td>\n",
       "      <td>46.0</td>\n",
       "    </tr>\n",
       "    <tr>\n",
       "      <th>127</th>\n",
       "      <td>341672.3793</td>\n",
       "      <td>53.0</td>\n",
       "    </tr>\n",
       "    <tr>\n",
       "      <th>242</th>\n",
       "      <td>341672.3793</td>\n",
       "      <td>61.0</td>\n",
       "    </tr>\n",
       "    <tr>\n",
       "      <th>262</th>\n",
       "      <td>341672.3793</td>\n",
       "      <td>55.0</td>\n",
       "    </tr>\n",
       "    <tr>\n",
       "      <th>264</th>\n",
       "      <td>341672.3793</td>\n",
       "      <td>43.0</td>\n",
       "    </tr>\n",
       "    <tr>\n",
       "      <th>402</th>\n",
       "      <td>341672.3793</td>\n",
       "      <td>37.0</td>\n",
       "    </tr>\n",
       "  </tbody>\n",
       "</table>\n",
       "</div>"
      ],
      "text/plain": [
       "        realrinc   age\n",
       "id                    \n",
       "43   341672.3793  51.0\n",
       "44   341672.3793  57.0\n",
       "45   341672.3793  44.0\n",
       "48   341672.3793  68.0\n",
       "55   341672.3793  46.0\n",
       "127  341672.3793  53.0\n",
       "242  341672.3793  61.0\n",
       "262  341672.3793  55.0\n",
       "264  341672.3793  43.0\n",
       "402  341672.3793  37.0"
      ]
     },
     "execution_count": 20,
     "metadata": {},
     "output_type": "execute_result"
    }
   ],
   "source": [
    "inc_age[inc_age['realrinc']>3.0E5].head(10) #All DATA VALUES ARE EQUAL! WTF?"
   ]
  },
  {
   "cell_type": "code",
   "execution_count": 21,
   "id": "governmental-harbor",
   "metadata": {},
   "outputs": [
    {
     "data": {
      "image/png": "[encoded data removed]",
      "text/plain": [
       "<Figure size 576x216 with 2 Axes>"
      ]
     },
     "metadata": {
      "needs_background": "light"
     },
     "output_type": "display_data"
    }
   ],
   "source": [
    "#income values above a certain value are lumped together, which explains the repeated value.\n",
    "#The values above 300k may be legitimately excluded from the histograms:\n",
    "lowinc_age = inc_age[inc_age['realrinc']<3.0E5] #Boolean selecting values below 300k, hence low income\n",
    "ax_list2 = lowinc_age.hist(bins = 20, figsize = (8, 3), xrot = 45)\n",
    "for ax in ax_list2[0]:\n",
    "    ax.grid()\n",
    "    ax.locator_params(axis = 'x', nbins = 8)\n",
    "    ax.locator_params(axis = 'y', nbins = 4)"
   ]
  },
  {
   "cell_type": "code",
   "execution_count": 22,
   "id": "sexual-ribbon",
   "metadata": {},
   "outputs": [
    {
     "data": {
      "text/plain": [
       "'By looking at the output, we can see that the distributions are quite distinct. \\nThe income distribution is markedly skewed toward large values and appears to have \\nseveral gaps. Note that the gaps may be due to the survey construction, especially \\nwith what concerns the way the real income is computed from the income ranges.\\n'"
      ]
     },
     "execution_count": 22,
     "metadata": {},
     "output_type": "execute_result"
    }
   ],
   "source": [
    "\"\"\"By looking at the output, we can see that the distributions are quite distinct. \n",
    "The income distribution is markedly skewed toward large values and appears to have \n",
    "several gaps. Note that the gaps may be due to the survey construction, especially \n",
    "with what concerns the way the real income is computed from the income ranges.\n",
    "\"\"\""
   ]
  },
  {
   "cell_type": "code",
   "execution_count": 23,
   "id": "dangerous-thickness",
   "metadata": {},
   "outputs": [],
   "source": [
    "#*TINKERING* What a figure's list of axes looks like:\n",
    "#ax_list2\n",
    "#OUT:array([[<AxesSubplot:title={'center':'realrinc'}>,\n",
    "        #<AxesSubplot:title={'center':'age'}>]], dtype=object)\n",
    "#for b, m in ax_list2:\n",
    "#    print(b, m)\n",
    "#OUT: AxesSubplot(0.125,0.125;0.336957x0.755) AxesSubplot(0.563043,0.125;0.336957x0.755) #*TINKERING*"
   ]
  },
  {
   "cell_type": "code",
   "execution_count": 43,
   "id": "solar-blast",
   "metadata": {},
   "outputs": [
    {
     "data": {
      "image/png": "[encoded data removed]",
      "text/plain": [
       "<Figure size 576x216 with 2 Axes>"
      ]
     },
     "metadata": {
      "needs_background": "light"
     },
     "output_type": "display_data"
    }
   ],
   "source": [
    "#Printing out pretty plots with matplotlib:\n",
    "ax_list3 = lowinc_age.hist(bins = 20, figsize = (8, 3), xrot = 45, color = 'SteelBlue')\n",
    "ax1, ax2 = ax_list3[0]\n",
    "ax1.set_title('Age (years)')\n",
    "ax2.set_title('Real Income ($)')\n",
    "for ax in ax_list3[0]:\n",
    "    ax.grid()\n",
    "    ax.locator_params(axis = 'x', nbins = 6)\n",
    "    ax.locator_params(axis = 'y', nbins = 4)"
   ]
  },
  {
   "cell_type": "code",
   "execution_count": 25,
   "id": "interested-badge",
   "metadata": {},
   "outputs": [],
   "source": [
    "#When using matplotlib for plotting, there are several approaches to each command.\n",
    "#Here, we show the object-oriented way, where ax1, ax2 = ax_list[0] fetches and\n",
    "#stores the two axes. Then, we set the title and turn off the background grid of each axis\n",
    "#using these objects."
   ]
  },
  {
   "cell_type": "code",
   "execution_count": 26,
   "id": "distinct-implement",
   "metadata": {},
   "outputs": [
    {
     "data": {
      "text/plain": [
       "Text(0.5, 0, 'Age (years)')"
      ]
     },
     "execution_count": 26,
     "metadata": {},
     "output_type": "execute_result"
    },
    {
     "data": {
      "image/png": "[encoded data removed]",
      "text/plain": [
       "<Figure size 432x288 with 1 Axes>"
      ]
     },
     "metadata": {
      "needs_background": "light"
     },
     "output_type": "display_data"
    }
   ],
   "source": [
    "#CHARACTERIZATION\n",
    "#Kernel Density Estimation (KDE), AKA \"smoothed\" histogram:\n",
    "age = gss_data['age'].dropna()\n",
    "age.plot(kind = 'kde', lw = 2, color = 'green')\n",
    "plt.title('KDE plot for Age')\n",
    "plt.xlabel('Age (years)')"
   ]
  },
  {
   "cell_type": "code",
   "execution_count": 27,
   "id": "existing-documentation",
   "metadata": {},
   "outputs": [
    {
     "data": {
      "text/plain": [
       "Text(0.5, 0, 'Age (years)')"
      ]
     },
     "execution_count": 27,
     "metadata": {},
     "output_type": "execute_result"
    },
    {
     "data": {
      "image/png": "[encoded data removed]",
      "text/plain": [
       "<Figure size 432x288 with 1 Axes>"
      ]
     },
     "metadata": {
      "needs_background": "light"
     },
     "output_type": "display_data"
    }
   ],
   "source": [
    "#Plotting the same KDE over the previous histogram for comparison:\n",
    "ax = age.hist(bins = 30, color = 'LightSteelBlue')#, normed = True)\n",
    "age.plot(kind = 'kde', lw = 2, color = 'Green', ax = ax)\n",
    "plt.title('Histogram and KDE for Age')\n",
    "plt.xlabel('Age (years)')\n",
    "#NO GOOD"
   ]
  },
  {
   "cell_type": "code",
   "execution_count": 28,
   "id": "bacterial-steam",
   "metadata": {},
   "outputs": [
    {
     "data": {
      "text/plain": [
       "((array([-3.62347833, -3.38741543, -3.25727154, ...,  3.25727154,\n",
       "          3.38741543,  3.62347833]),\n",
       "  array([18., 18., 18., ..., 89., 89., 89.])),\n",
       " (16.99498585504628, 49.59467393583561, 0.9882188072238001))"
      ]
     },
     "execution_count": 28,
     "metadata": {},
     "output_type": "execute_result"
    },
    {
     "data": {
      "image/png": "[encoded data removed]",
      "text/plain": [
       "<Figure size 432x288 with 1 Axes>"
      ]
     },
     "metadata": {
      "needs_background": "light"
     },
     "output_type": "display_data"
    }
   ],
   "source": [
    "import scipy.stats as stats\n",
    "stats.probplot(age, dist = 'norm', plot = plt)\n",
    "#Normal distribution plot of age data: the data in blue does not correspond\n",
    "#to a normal distribution therefore said plot would not be adequate for\n",
    "#this data."
   ]
  },
  {
   "cell_type": "code",
   "execution_count": 29,
   "id": "prospective-dryer",
   "metadata": {},
   "outputs": [
    {
     "data": {
      "text/plain": [
       "count     2751.000000\n",
       "mean     18582.194656\n",
       "std      14841.581333\n",
       "min        245.000000\n",
       "25%       6737.500000\n",
       "50%      15925.000000\n",
       "75%      26950.000000\n",
       "max      68600.000000\n",
       "Name: realrinc, dtype: float64"
      ]
     },
     "execution_count": 29,
     "metadata": {},
     "output_type": "execute_result"
    }
   ],
   "source": [
    "#Using statistical inference; \n",
    "#Range of data: smallest and largest values\n",
    "#Measures of centrality: mean and the median (where is the center of the values?)\n",
    "#Spread of data from its center: standard deviation and quartiles + percentiles\n",
    "inc = gss_data['realrinc'].dropna()\n",
    "lowinc = inc[inc < 3.0E5]\n",
    "lowinc.describe()"
   ]
  },
  {
   "cell_type": "code",
   "execution_count": 30,
   "id": "supported-navigation",
   "metadata": {},
   "outputs": [
    {
     "data": {
      "text/plain": [
       "count     2751.000000\n",
       "mean     18582.194656\n",
       "std      14841.581333\n",
       "min        245.000000\n",
       "0%         245.000000\n",
       "10%       2695.000000\n",
       "20%       5512.500000\n",
       "30%       9187.500000\n",
       "40%      11637.500000\n",
       "50%      15925.000000\n",
       "60%      18375.000000\n",
       "70%      22050.000000\n",
       "80%      26950.000000\n",
       "90%      40425.000000\n",
       "max      68600.000000\n",
       "Name: realrinc, dtype: float64"
      ]
     },
     "execution_count": 30,
     "metadata": {},
     "output_type": "execute_result"
    }
   ],
   "source": [
    "#If a more detailed view of the distribution is desired, a larger number\n",
    "#of percentiles can be queried from the system:\n",
    "lowinc.describe(percentiles = np.arange(0, 1.0, 0.1))"
   ]
  },
  {
   "cell_type": "code",
   "execution_count": 31,
   "id": "gorgeous-relationship",
   "metadata": {},
   "outputs": [
    {
     "data": {
      "text/plain": [
       "<AxesSubplot:>"
      ]
     },
     "execution_count": 31,
     "metadata": {},
     "output_type": "execute_result"
    },
    {
     "data": {
      "image/png": "[encoded data removed]",
      "text/plain": [
       "<Figure size 432x288 with 1 Axes>"
      ]
     },
     "metadata": {
      "needs_background": "light"
     },
     "output_type": "display_data"
    }
   ],
   "source": [
    "#Boxplot: useful to display center and spread of data:\n",
    "lowinc.plot(kind = 'box')"
   ]
  },
  {
   "cell_type": "code",
   "execution_count": 32,
   "id": "prospective-married",
   "metadata": {},
   "outputs": [
    {
     "data": {
      "text/plain": [
       "<AxesSubplot:>"
      ]
     },
     "execution_count": 32,
     "metadata": {},
     "output_type": "execute_result"
    },
    {
     "data": {
      "image/png": "[encoded data removed]",
      "text/plain": [
       "<Figure size 432x288 with 1 Axes>"
      ]
     },
     "metadata": {
      "needs_background": "light"
     },
     "output_type": "display_data"
    }
   ],
   "source": [
    "#other syntax:\n",
    "lowinc.plot.box()"
   ]
  },
  {
   "cell_type": "code",
   "execution_count": 33,
   "id": "portuguese-coalition",
   "metadata": {},
   "outputs": [],
   "source": [
    "import seaborn as sns\n",
    "#No seaborn installed yet..."
   ]
  },
  {
   "cell_type": "code",
   "execution_count": 34,
   "id": "desperate-notion",
   "metadata": {},
   "outputs": [
    {
     "data": {
      "text/plain": [
       "<AxesSubplot:title={'center':'realrinc'}, xlabel='sex'>"
      ]
     },
     "execution_count": 34,
     "metadata": {},
     "output_type": "execute_result"
    },
    {
     "data": {
      "image/png": "[encoded data removed]",
      "text/plain": [
       "<Figure size 432x288 with 1 Axes>"
      ]
     },
     "metadata": {
      "needs_background": "light"
     },
     "output_type": "display_data"
    }
   ],
   "source": [
    "#Comparing data for different subpopulations - income male vs female:\n",
    "inc_gen = gss_data[['realrinc', 'sex']]\n",
    "inc_gen = inc_gen[inc_gen['realrinc']<3.0E5]\n",
    "inc_gen.boxplot(column = 'realrinc', by = 'sex')"
   ]
  },
  {
   "cell_type": "code",
   "execution_count": 35,
   "id": "annual-alaska",
   "metadata": {},
   "outputs": [],
   "source": [
    "#Scatterplots to visualize relationships between variables:\n",
    "#HUBBLE - relationship between distance and velocity of extragalactic nebulae\n",
    "hubble_data = pd.read_csv(os.path.join(ch2data, 'hubble2.csv'))"
   ]
  },
  {
   "cell_type": "code",
   "execution_count": 36,
   "id": "higher-payment",
   "metadata": {},
   "outputs": [
    {
     "data": {
      "text/plain": [
       "<AxesSubplot:xlabel='r', ylabel='v'>"
      ]
     },
     "execution_count": 36,
     "metadata": {},
     "output_type": "execute_result"
    },
    {
     "data": {
      "image/png": "[encoded data removed]",
      "text/plain": [
       "<Figure size 432x288 with 1 Axes>"
      ]
     },
     "metadata": {
      "needs_background": "light"
     },
     "output_type": "display_data"
    }
   ],
   "source": [
    "hubble_data.plot(kind = 'scatter', x = 'r', y = 'v')\n",
    "#File required data cleanup. This is to be expected in many cases."
   ]
  },
  {
   "cell_type": "code",
   "execution_count": 37,
   "id": "fossil-pilot",
   "metadata": {},
   "outputs": [],
   "source": [
    "from scipy.stats import linregress"
   ]
  },
  {
   "cell_type": "code",
   "execution_count": 38,
   "id": "wanted-conditions",
   "metadata": {},
   "outputs": [],
   "source": [
    "#rv = hubble_data.as_matrix(columns = ['r', 'v'])\n",
    "#a, b, r, p, stderr = linregress(rv)\n",
    "#print(a, b, r, p, stderr)"
   ]
  },
  {
   "cell_type": "code",
   "execution_count": 39,
   "id": "textile-stevens",
   "metadata": {},
   "outputs": [],
   "source": [
    "rv = np.array(hubble_data) #my workaround... maybe"
   ]
  },
  {
   "cell_type": "code",
   "execution_count": 40,
   "id": "threaded-giving",
   "metadata": {},
   "outputs": [],
   "source": [
    "#rv #Not needed..."
   ]
  },
  {
   "cell_type": "code",
   "execution_count": 41,
   "id": "dominant-least",
   "metadata": {},
   "outputs": [
    {
     "data": {
      "text/plain": [
       "<AxesSubplot:xlabel='r', ylabel='v'>"
      ]
     },
     "execution_count": 41,
     "metadata": {},
     "output_type": "execute_result"
    },
    {
     "data": {
      "image/png": "[encoded data removed]",
      "text/plain": [
       "<Figure size 432x288 with 1 Axes>"
      ]
     },
     "metadata": {
      "needs_background": "light"
     },
     "output_type": "display_data"
    }
   ],
   "source": [
    "sns.regplot(x = 'r', y = 'v', data = hubble_data)\n",
    "#It does appear to be consistent with the textbook's plot"
   ]
  },
  {
   "cell_type": "code",
   "execution_count": 42,
   "id": "numeric-viewer",
   "metadata": {},
   "outputs": [],
   "source": [
    "#End of Chapter 2. On to notes#"
   ]
  }
 ],
 "metadata": {
  "kernelspec": {
   "display_name": "Python 3",
   "language": "python",
   "name": "python3"
  },
  "language_info": {
   "codemirror_mode": {
    "name": "ipython",
    "version": 3
   },
   "file_extension": ".py",
   "mimetype": "text/x-python",
   "name": "python",
   "nbconvert_exporter": "python",
   "pygments_lexer": "ipython3",
   "version": "3.8.0"
  }
 },
 "nbformat": 4,
 "nbformat_minor": 5
}
