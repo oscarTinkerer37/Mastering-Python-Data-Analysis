{
 "cells": [
  {
   "cell_type": "code",
   "execution_count": 1,
   "id": "married-possibility",
   "metadata": {},
   "outputs": [],
   "source": [
    "%matplotlib inline\n",
    "import matplotlib.pyplot as plt\n",
    "import numpy as np\n",
    "import pandas as pd"
   ]
  },
  {
   "cell_type": "code",
   "execution_count": 2,
   "id": "periodic-science",
   "metadata": {},
   "outputs": [],
   "source": [
    "import os"
   ]
  },
  {
   "cell_type": "code",
   "execution_count": 3,
   "id": "finnish-conservative",
   "metadata": {},
   "outputs": [
    {
     "data": {
      "text/plain": [
       "'C:\\\\Users\\\\obaer\\\\Documents\\\\python\\\\Mastering-Python-Data-Analysis-master'"
      ]
     },
     "execution_count": 3,
     "metadata": {},
     "output_type": "execute_result"
    }
   ],
   "source": [
    "os.getcwd()"
   ]
  },
  {
   "cell_type": "code",
   "execution_count": 4,
   "id": "south-armstrong",
   "metadata": {},
   "outputs": [],
   "source": [
    "#Comando opcional del autor, para seleccionar stylesheet mystyle.mplstyle\n",
    "plt.style.use(os.path.join('C:\\\\Users\\\\obaer\\\\Documents\\\\python\\\\Mastering-Python-Data-Analysis-master\\\\Appendix', 'mystyle.mplstyle'))"
   ]
  },
  {
   "cell_type": "code",
   "execution_count": 5,
   "id": "unlike-survival",
   "metadata": {},
   "outputs": [
    {
     "data": {
      "text/plain": [
       "'C:\\\\Users\\\\obaer\\\\Documents\\\\python\\\\Mastering-Python-Data-Analysis-master'"
      ]
     },
     "execution_count": 5,
     "metadata": {},
     "output_type": "execute_result"
    }
   ],
   "source": [
    "os.getcwd()"
   ]
  },
  {
   "cell_type": "code",
   "execution_count": 6,
   "id": "dirty-planet",
   "metadata": {},
   "outputs": [],
   "source": [
    "os.chdir('C:\\\\Users\\\\obaer\\\\Documents\\\\python\\\\Mastering-Python-Data-Analysis-master\\\\Chapter 1')"
   ]
  },
  {
   "cell_type": "code",
   "execution_count": 7,
   "id": "wooden-holmes",
   "metadata": {},
   "outputs": [
    {
     "data": {
      "text/plain": [
       "'C:\\\\Users\\\\obaer\\\\Documents\\\\python\\\\Mastering-Python-Data-Analysis-master\\\\Chapter 1'"
      ]
     },
     "execution_count": 7,
     "metadata": {},
     "output_type": "execute_result"
    }
   ],
   "source": [
    "os.getcwd()"
   ]
  },
  {
   "cell_type": "code",
   "execution_count": 8,
   "id": "adjusted-penguin",
   "metadata": {},
   "outputs": [],
   "source": [
    "cols =['user id', 'item id', 'rating', 'timestamp']"
   ]
  },
  {
   "cell_type": "code",
   "execution_count": 9,
   "id": "destroyed-disney",
   "metadata": {},
   "outputs": [
    {
     "name": "stdout",
     "output_type": "stream",
     "text": [
      ".DS_Store\n",
      "._.DS_Store\n",
      "._B03551_01_code.ipynb\n",
      "._data\n",
      "._mystyle.mplstyle\n",
      "B03551_01_code.ipynb\n",
      "data\n",
      "mystyle.mplstyle\n"
     ]
    }
   ],
   "source": [
    "for g in os.listdir():\n",
    "    print(g)"
   ]
  },
  {
   "cell_type": "code",
   "execution_count": 10,
   "id": "specified-battlefield",
   "metadata": {},
   "outputs": [
    {
     "name": "stderr",
     "output_type": "stream",
     "text": [
      "<ipython-input-10-166cfbd93b39>:1: ParserWarning: Falling back to the 'python' engine because the 'c' engine does not support regex separators (separators > 1 char and different from '\\s+' are interpreted as regex); you can avoid this warning by specifying engine='python'.\n",
      "  ratings = pd.read_csv(os.path.join('C:\\\\Users\\\\obaer\\\\Documents\\\\python\\\\Mastering-Python-Data-Analysis-master\\\\Chapter 1\\\\data', 'ratings.dat'), sep='::', index_col = False, names = cols, encoding='UTF-8')\n"
     ]
    }
   ],
   "source": [
    "ratings = pd.read_csv(os.path.join('C:\\\\Users\\\\obaer\\\\Documents\\\\python\\\\Mastering-Python-Data-Analysis-master\\\\Chapter 1\\\\data', 'ratings.dat'), sep='::', index_col = False, names = cols, encoding='UTF-8')"
   ]
  },
  {
   "cell_type": "code",
   "execution_count": 11,
   "id": "specific-webcam",
   "metadata": {},
   "outputs": [
    {
     "data": {
      "text/html": [
       "<div>\n",
       "<style scoped>\n",
       "    .dataframe tbody tr th:only-of-type {\n",
       "        vertical-align: middle;\n",
       "    }\n",
       "\n",
       "    .dataframe tbody tr th {\n",
       "        vertical-align: top;\n",
       "    }\n",
       "\n",
       "    .dataframe thead th {\n",
       "        text-align: right;\n",
       "    }\n",
       "</style>\n",
       "<table border=\"1\" class=\"dataframe\">\n",
       "  <thead>\n",
       "    <tr style=\"text-align: right;\">\n",
       "      <th></th>\n",
       "      <th>user id</th>\n",
       "      <th>item id</th>\n",
       "      <th>rating</th>\n",
       "      <th>timestamp</th>\n",
       "    </tr>\n",
       "  </thead>\n",
       "  <tbody>\n",
       "    <tr>\n",
       "      <th>0</th>\n",
       "      <td>1</td>\n",
       "      <td>1074638</td>\n",
       "      <td>7</td>\n",
       "      <td>1365029107</td>\n",
       "    </tr>\n",
       "    <tr>\n",
       "      <th>1</th>\n",
       "      <td>1</td>\n",
       "      <td>1853728</td>\n",
       "      <td>8</td>\n",
       "      <td>1366576639</td>\n",
       "    </tr>\n",
       "    <tr>\n",
       "      <th>2</th>\n",
       "      <td>2</td>\n",
       "      <td>104257</td>\n",
       "      <td>8</td>\n",
       "      <td>1364690142</td>\n",
       "    </tr>\n",
       "    <tr>\n",
       "      <th>3</th>\n",
       "      <td>2</td>\n",
       "      <td>1259521</td>\n",
       "      <td>8</td>\n",
       "      <td>1364118447</td>\n",
       "    </tr>\n",
       "    <tr>\n",
       "      <th>4</th>\n",
       "      <td>2</td>\n",
       "      <td>1991245</td>\n",
       "      <td>7</td>\n",
       "      <td>1364117717</td>\n",
       "    </tr>\n",
       "  </tbody>\n",
       "</table>\n",
       "</div>"
      ],
      "text/plain": [
       "   user id  item id  rating   timestamp\n",
       "0        1  1074638       7  1365029107\n",
       "1        1  1853728       8  1366576639\n",
       "2        2   104257       8  1364690142\n",
       "3        2  1259521       8  1364118447\n",
       "4        2  1991245       7  1364117717"
      ]
     },
     "execution_count": 11,
     "metadata": {},
     "output_type": "execute_result"
    }
   ],
   "source": [
    "ratings.head()"
   ]
  },
  {
   "cell_type": "code",
   "execution_count": 12,
   "id": "worse-permit",
   "metadata": {},
   "outputs": [
    {
     "data": {
      "text/html": [
       "<div>\n",
       "<style scoped>\n",
       "    .dataframe tbody tr th:only-of-type {\n",
       "        vertical-align: middle;\n",
       "    }\n",
       "\n",
       "    .dataframe tbody tr th {\n",
       "        vertical-align: top;\n",
       "    }\n",
       "\n",
       "    .dataframe thead th {\n",
       "        text-align: right;\n",
       "    }\n",
       "</style>\n",
       "<table border=\"1\" class=\"dataframe\">\n",
       "  <thead>\n",
       "    <tr style=\"text-align: right;\">\n",
       "      <th></th>\n",
       "      <th>user id</th>\n",
       "      <th>item id</th>\n",
       "      <th>rating</th>\n",
       "      <th>timestamp</th>\n",
       "    </tr>\n",
       "  </thead>\n",
       "  <tbody>\n",
       "    <tr>\n",
       "      <th>0</th>\n",
       "      <td>1</td>\n",
       "      <td>1074638</td>\n",
       "      <td>7</td>\n",
       "      <td>1365029107</td>\n",
       "    </tr>\n",
       "    <tr>\n",
       "      <th>1</th>\n",
       "      <td>1</td>\n",
       "      <td>1853728</td>\n",
       "      <td>8</td>\n",
       "      <td>1366576639</td>\n",
       "    </tr>\n",
       "    <tr>\n",
       "      <th>2</th>\n",
       "      <td>2</td>\n",
       "      <td>104257</td>\n",
       "      <td>8</td>\n",
       "      <td>1364690142</td>\n",
       "    </tr>\n",
       "    <tr>\n",
       "      <th>3</th>\n",
       "      <td>2</td>\n",
       "      <td>1259521</td>\n",
       "      <td>8</td>\n",
       "      <td>1364118447</td>\n",
       "    </tr>\n",
       "    <tr>\n",
       "      <th>4</th>\n",
       "      <td>2</td>\n",
       "      <td>1991245</td>\n",
       "      <td>7</td>\n",
       "      <td>1364117717</td>\n",
       "    </tr>\n",
       "  </tbody>\n",
       "</table>\n",
       "</div>"
      ],
      "text/plain": [
       "   user id  item id  rating   timestamp\n",
       "0        1  1074638       7  1365029107\n",
       "1        1  1853728       8  1366576639\n",
       "2        2   104257       8  1364690142\n",
       "3        2  1259521       8  1364118447\n",
       "4        2  1991245       7  1364117717"
      ]
     },
     "execution_count": 12,
     "metadata": {},
     "output_type": "execute_result"
    }
   ],
   "source": [
    "ratings[:5] #Es lo mismo que ratings.head(),solo usando slicing"
   ]
  },
  {
   "cell_type": "code",
   "execution_count": 13,
   "id": "minor-links",
   "metadata": {},
   "outputs": [
    {
     "data": {
      "text/plain": [
       "8     12012\n",
       "7     11063\n",
       "9      7119\n",
       "6      6373\n",
       "10     6281\n",
       "5      3399\n",
       "4      1696\n",
       "3       924\n",
       "1       595\n",
       "2       533\n",
       "0         5\n",
       "Name: rating, dtype: int64"
      ]
     },
     "execution_count": 13,
     "metadata": {},
     "output_type": "execute_result"
    }
   ],
   "source": [
    "rating_counts = ratings['rating'].value_counts() #guardando los conteos de cada valor de rating en la variable \"rating_counts\"\n",
    "rating_counts\n",
    "#Es de esperarse que los ratings vayan de 1 a 10, por lo que tiene sentido usar value_counts()"
   ]
  },
  {
   "cell_type": "code",
   "execution_count": 14,
   "id": "passive-mercy",
   "metadata": {},
   "outputs": [
    {
     "data": {
      "text/plain": [
       "0         5\n",
       "1       595\n",
       "2       533\n",
       "3       924\n",
       "4      1696\n",
       "5      3399\n",
       "6      6373\n",
       "7     11063\n",
       "8     12012\n",
       "9      7119\n",
       "10     6281\n",
       "Name: rating, dtype: int64"
      ]
     },
     "execution_count": 14,
     "metadata": {},
     "output_type": "execute_result"
    }
   ],
   "source": [
    "#Ordenando las filas de acuerdo con el rating, mediante la función sort_index():\n",
    "sorted_counts = rating_counts.sort_index()\n",
    "sorted_counts"
   ]
  },
  {
   "cell_type": "code",
   "execution_count": 15,
   "id": "french-relations",
   "metadata": {},
   "outputs": [
    {
     "data": {
      "image/png": "[encoded data removed]",
      "text/plain": [
       "<Figure size 500x350 with 1 Axes>"
      ]
     },
     "metadata": {},
     "output_type": "display_data"
    }
   ],
   "source": [
    "sorted_counts.plot(kind = 'bar', color = 'SteelBlue')\n",
    "plt.title('Movie Ratings')\n",
    "plt.xlabel('Rating')\n",
    "plt.ylabel('Count')\n",
    "plt.show()"
   ]
  },
  {
   "cell_type": "code",
   "execution_count": 16,
   "id": "instrumental-forest",
   "metadata": {},
   "outputs": [
    {
     "data": {
      "image/png": "[encoded data removed]",
      "text/plain": [
       "<Figure size 500x350 with 1 Axes>"
      ]
     },
     "metadata": {},
     "output_type": "display_data"
    }
   ],
   "source": [
    "rating_counts.plot(kind = 'bar', color = 'Orange')\n",
    "plt.title('Movie Ratings')\n",
    "plt.xlabel('Rating')\n",
    "plt.ylabel('Count')\n",
    "plt.show()\n",
    "#Mostrando la diferencia: se grafica a continuación el objeto sin ordenar por valor de rating."
   ]
  },
  {
   "cell_type": "code",
   "execution_count": 17,
   "id": "bacterial-metadata",
   "metadata": {},
   "outputs": [],
   "source": [
    "##Para hacer una referencia cruzada entre la información de ratings y los géneros de películas, primero\n",
    "#debe abrirse el archivo \"movies.dat\""
   ]
  },
  {
   "cell_type": "code",
   "execution_count": 18,
   "id": "yellow-butler",
   "metadata": {},
   "outputs": [
    {
     "data": {
      "text/plain": [
       "'C:\\\\Users\\\\obaer\\\\Documents\\\\python\\\\Mastering-Python-Data-Analysis-master\\\\Chapter 1'"
      ]
     },
     "execution_count": 18,
     "metadata": {},
     "output_type": "execute_result"
    }
   ],
   "source": [
    "os.getcwd()"
   ]
  },
  {
   "cell_type": "code",
   "execution_count": 19,
   "id": "intelligent-heather",
   "metadata": {},
   "outputs": [
    {
     "name": "stderr",
     "output_type": "stream",
     "text": [
      "<ipython-input-19-cc130a411564>:2: ParserWarning: Falling back to the 'python' engine because the 'c' engine does not support regex separators (separators > 1 char and different from '\\s+' are interpreted as regex); you can avoid this warning by specifying engine='python'.\n",
      "  movies = pd.read_csv(os.path.join('C:\\\\Users\\\\obaer\\\\Documents\\\\python\\\\Mastering-Python-Data-Analysis-master\\\\Chapter 1\\\\data', 'movies.dat'), sep = '::', index_col = False, names = cols2, encoding = 'UTF-8')\n"
     ]
    }
   ],
   "source": [
    "cols2 = ['movie id', 'movie title', 'genre']\n",
    "movies = pd.read_csv(os.path.join('C:\\\\Users\\\\obaer\\\\Documents\\\\python\\\\Mastering-Python-Data-Analysis-master\\\\Chapter 1\\\\data', 'movies.dat'), sep = '::', index_col = False, names = cols2, encoding = 'UTF-8')"
   ]
  },
  {
   "cell_type": "code",
   "execution_count": 20,
   "id": "agricultural-church",
   "metadata": {},
   "outputs": [
    {
     "data": {
      "text/html": [
       "<div>\n",
       "<style scoped>\n",
       "    .dataframe tbody tr th:only-of-type {\n",
       "        vertical-align: middle;\n",
       "    }\n",
       "\n",
       "    .dataframe tbody tr th {\n",
       "        vertical-align: top;\n",
       "    }\n",
       "\n",
       "    .dataframe thead th {\n",
       "        text-align: right;\n",
       "    }\n",
       "</style>\n",
       "<table border=\"1\" class=\"dataframe\">\n",
       "  <thead>\n",
       "    <tr style=\"text-align: right;\">\n",
       "      <th></th>\n",
       "      <th>movie id</th>\n",
       "      <th>movie title</th>\n",
       "      <th>genre</th>\n",
       "    </tr>\n",
       "  </thead>\n",
       "  <tbody>\n",
       "    <tr>\n",
       "      <th>0</th>\n",
       "      <td>2844</td>\n",
       "      <td>Fantômas - À l'ombre de la guillotine (1913)</td>\n",
       "      <td>Crime|Drama</td>\n",
       "    </tr>\n",
       "    <tr>\n",
       "      <th>1</th>\n",
       "      <td>4936</td>\n",
       "      <td>The Bank (1915)</td>\n",
       "      <td>Comedy|Short</td>\n",
       "    </tr>\n",
       "    <tr>\n",
       "      <th>2</th>\n",
       "      <td>7264</td>\n",
       "      <td>The Rink (1916)</td>\n",
       "      <td>Comedy|Short</td>\n",
       "    </tr>\n",
       "    <tr>\n",
       "      <th>3</th>\n",
       "      <td>8133</td>\n",
       "      <td>The Immigrant (1917)</td>\n",
       "      <td>Short|Comedy|Drama|Romance</td>\n",
       "    </tr>\n",
       "    <tr>\n",
       "      <th>4</th>\n",
       "      <td>9968</td>\n",
       "      <td>Broken Blossoms or The Yellow Man and the Girl...</td>\n",
       "      <td>Drama|Romance</td>\n",
       "    </tr>\n",
       "  </tbody>\n",
       "</table>\n",
       "</div>"
      ],
      "text/plain": [
       "   movie id                                        movie title  \\\n",
       "0      2844       Fantômas - À l'ombre de la guillotine (1913)   \n",
       "1      4936                                    The Bank (1915)   \n",
       "2      7264                                    The Rink (1916)   \n",
       "3      8133                               The Immigrant (1917)   \n",
       "4      9968  Broken Blossoms or The Yellow Man and the Girl...   \n",
       "\n",
       "                        genre  \n",
       "0                 Crime|Drama  \n",
       "1                Comedy|Short  \n",
       "2                Comedy|Short  \n",
       "3  Short|Comedy|Drama|Romance  \n",
       "4               Drama|Romance  "
      ]
     },
     "execution_count": 20,
     "metadata": {},
     "output_type": "execute_result"
    }
   ],
   "source": [
    "movies.head()"
   ]
  },
  {
   "cell_type": "code",
   "execution_count": 21,
   "id": "smaller-hello",
   "metadata": {},
   "outputs": [],
   "source": [
    "#for x in movies['movie title']:\n",
    "#    print(x)\n",
    "import time"
   ]
  },
  {
   "cell_type": "code",
   "execution_count": 22,
   "id": "presidential-adelaide",
   "metadata": {},
   "outputs": [
    {
     "data": {
      "text/plain": [
       "0     True\n",
       "1    False\n",
       "2    False\n",
       "3    False\n",
       "4    False\n",
       "Name: genre, dtype: bool"
      ]
     },
     "execution_count": 22,
     "metadata": {},
     "output_type": "execute_result"
    }
   ],
   "source": [
    "is_drama = movies['genre'] == 'Crime|Drama'\n",
    "is_drama.head()\n",
    "#Querying system whether movie genre equals crime/drama, output is series object with Boolean values"
   ]
  },
  {
   "cell_type": "code",
   "execution_count": 23,
   "id": "modified-remark",
   "metadata": {},
   "outputs": [
    {
     "data": {
      "text/html": [
       "<div>\n",
       "<style scoped>\n",
       "    .dataframe tbody tr th:only-of-type {\n",
       "        vertical-align: middle;\n",
       "    }\n",
       "\n",
       "    .dataframe tbody tr th {\n",
       "        vertical-align: top;\n",
       "    }\n",
       "\n",
       "    .dataframe thead th {\n",
       "        text-align: right;\n",
       "    }\n",
       "</style>\n",
       "<table border=\"1\" class=\"dataframe\">\n",
       "  <thead>\n",
       "    <tr style=\"text-align: right;\">\n",
       "      <th></th>\n",
       "      <th>movie id</th>\n",
       "      <th>movie title</th>\n",
       "      <th>genre</th>\n",
       "    </tr>\n",
       "  </thead>\n",
       "  <tbody>\n",
       "    <tr>\n",
       "      <th>0</th>\n",
       "      <td>2844</td>\n",
       "      <td>Fantômas - À l'ombre de la guillotine (1913)</td>\n",
       "      <td>Crime|Drama</td>\n",
       "    </tr>\n",
       "    <tr>\n",
       "      <th>54</th>\n",
       "      <td>23817</td>\n",
       "      <td>Blondie Johnson (1933)</td>\n",
       "      <td>Crime|Drama</td>\n",
       "    </tr>\n",
       "    <tr>\n",
       "      <th>208</th>\n",
       "      <td>40522</td>\n",
       "      <td>Ladri di biciclette (1948)</td>\n",
       "      <td>Crime|Drama</td>\n",
       "    </tr>\n",
       "    <tr>\n",
       "      <th>236</th>\n",
       "      <td>42876</td>\n",
       "      <td>Rashômon (1950)</td>\n",
       "      <td>Crime|Drama</td>\n",
       "    </tr>\n",
       "    <tr>\n",
       "      <th>251</th>\n",
       "      <td>44515</td>\n",
       "      <td>Cosh Boy (1953)</td>\n",
       "      <td>Crime|Drama</td>\n",
       "    </tr>\n",
       "  </tbody>\n",
       "</table>\n",
       "</div>"
      ],
      "text/plain": [
       "     movie id                                   movie title        genre\n",
       "0        2844  Fantômas - À l'ombre de la guillotine (1913)  Crime|Drama\n",
       "54      23817                        Blondie Johnson (1933)  Crime|Drama\n",
       "208     40522                    Ladri di biciclette (1948)  Crime|Drama\n",
       "236     42876                               Rashômon (1950)  Crime|Drama\n",
       "251     44515                               Cosh Boy (1953)  Crime|Drama"
      ]
     },
     "execution_count": 23,
     "metadata": {},
     "output_type": "execute_result"
    }
   ],
   "source": [
    "drama2 = movies[movies['genre'] == 'Crime|Drama']\n",
    "drama2.head()\n",
    "\n",
    "#calling cells in \"movies\" dataframe for which the condition is True"
   ]
  },
  {
   "cell_type": "code",
   "execution_count": 24,
   "id": "biblical-keyboard",
   "metadata": {},
   "outputs": [
    {
     "data": {
      "text/plain": [
       "0       2844\n",
       "54     23817\n",
       "208    40522\n",
       "236    42876\n",
       "251    44515\n",
       "Name: movie id, dtype: int64"
      ]
     },
     "execution_count": 24,
     "metadata": {},
     "output_type": "execute_result"
    }
   ],
   "source": [
    "drama_ids = drama2['movie id']\n",
    "drama_ids.head()"
   ]
  },
  {
   "cell_type": "code",
   "execution_count": 25,
   "id": "representative-premium",
   "metadata": {},
   "outputs": [],
   "source": [
    "criterion = ratings['item id'].map(lambda x:(drama_ids==x).any())\n",
    "\n",
    "#The criterion variable is produced via de map() method - applying a functon to all the entities of a Series object. \n",
    "#The lambda function within the map method checks whether an item appears in drama_ids, returning True in positive cases.\n"
   ]
  },
  {
   "cell_type": "code",
   "execution_count": 26,
   "id": "spoken-allen",
   "metadata": {},
   "outputs": [
    {
     "data": {
      "text/plain": [
       "0    False\n",
       "1    False\n",
       "2    False\n",
       "3    False\n",
       "4    False\n",
       "Name: item id, dtype: bool"
      ]
     },
     "execution_count": 26,
     "metadata": {},
     "output_type": "execute_result"
    }
   ],
   "source": [
    "criterion[:5]"
   ]
  },
  {
   "cell_type": "code",
   "execution_count": 27,
   "id": "sacred-austria",
   "metadata": {},
   "outputs": [
    {
     "data": {
      "text/html": [
       "<div>\n",
       "<style scoped>\n",
       "    .dataframe tbody tr th:only-of-type {\n",
       "        vertical-align: middle;\n",
       "    }\n",
       "\n",
       "    .dataframe tbody tr th {\n",
       "        vertical-align: top;\n",
       "    }\n",
       "\n",
       "    .dataframe thead th {\n",
       "        text-align: right;\n",
       "    }\n",
       "</style>\n",
       "<table border=\"1\" class=\"dataframe\">\n",
       "  <thead>\n",
       "    <tr style=\"text-align: right;\">\n",
       "      <th></th>\n",
       "      <th>user id</th>\n",
       "      <th>item id</th>\n",
       "      <th>rating</th>\n",
       "      <th>timestamp</th>\n",
       "    </tr>\n",
       "  </thead>\n",
       "  <tbody>\n",
       "    <tr>\n",
       "      <th>128</th>\n",
       "      <td>18</td>\n",
       "      <td>86066</td>\n",
       "      <td>10</td>\n",
       "      <td>1363985505</td>\n",
       "    </tr>\n",
       "    <tr>\n",
       "      <th>150</th>\n",
       "      <td>23</td>\n",
       "      <td>1212450</td>\n",
       "      <td>8</td>\n",
       "      <td>1364166586</td>\n",
       "    </tr>\n",
       "    <tr>\n",
       "      <th>176</th>\n",
       "      <td>26</td>\n",
       "      <td>1817273</td>\n",
       "      <td>8</td>\n",
       "      <td>1367761386</td>\n",
       "    </tr>\n",
       "    <tr>\n",
       "      <th>194</th>\n",
       "      <td>36</td>\n",
       "      <td>68646</td>\n",
       "      <td>9</td>\n",
       "      <td>1364834910</td>\n",
       "    </tr>\n",
       "    <tr>\n",
       "      <th>195</th>\n",
       "      <td>36</td>\n",
       "      <td>71562</td>\n",
       "      <td>10</td>\n",
       "      <td>1365005772</td>\n",
       "    </tr>\n",
       "  </tbody>\n",
       "</table>\n",
       "</div>"
      ],
      "text/plain": [
       "     user id  item id  rating   timestamp\n",
       "128       18    86066      10  1363985505\n",
       "150       23  1212450       8  1364166586\n",
       "176       26  1817273       8  1367761386\n",
       "194       36    68646       9  1364834910\n",
       "195       36    71562      10  1365005772"
      ]
     },
     "execution_count": 27,
     "metadata": {},
     "output_type": "execute_result"
    }
   ],
   "source": [
    "drama_ratings = ratings[criterion]\n",
    "drama_ratings.head()"
   ]
  },
  {
   "cell_type": "code",
   "execution_count": 28,
   "id": "rough-there",
   "metadata": {},
   "outputs": [
    {
     "data": {
      "text/plain": [
       "0    False\n",
       "1    False\n",
       "2    False\n",
       "3    False\n",
       "4    False\n",
       "5    False\n",
       "6    False\n",
       "7    False\n",
       "8    False\n",
       "9    False\n",
       "Name: item id, dtype: bool"
      ]
     },
     "execution_count": 28,
     "metadata": {},
     "output_type": "execute_result"
    }
   ],
   "source": [
    "criterion[:10]"
   ]
  },
  {
   "cell_type": "code",
   "execution_count": 29,
   "id": "vertical-andrew",
   "metadata": {},
   "outputs": [
    {
     "data": {
      "image/png": "[encoded data removed]",
      "text/plain": [
       "<Figure size 500x350 with 1 Axes>"
      ]
     },
     "metadata": {},
     "output_type": "display_data"
    }
   ],
   "source": [
    "rating_counts = drama_ratings['rating'].value_counts()\n",
    "sorted_counts = rating_counts.sort_index()\n",
    "#plotting  drama counts sorted by rating\n",
    "sorted_counts.plot(kind = 'bar', color = 'Green')\n",
    "plt.title('Movie ratings for Dramas')\n",
    "plt.xlabel('Rating')\n",
    "plt.ylabel('Count')\n",
    "plt.show()"
   ]
  },
  {
   "cell_type": "code",
   "execution_count": 30,
   "id": "animated-grass",
   "metadata": {},
   "outputs": [],
   "source": [
    "#*******MY TINKERING********\n",
    "moviesRating = pd.concat([movies, ratings], axis=1)\n",
    "#Concatenating movies and ratings dataframes"
   ]
  },
  {
   "cell_type": "code",
   "execution_count": 31,
   "id": "static-secondary",
   "metadata": {},
   "outputs": [
    {
     "data": {
      "text/html": [
       "<div>\n",
       "<style scoped>\n",
       "    .dataframe tbody tr th:only-of-type {\n",
       "        vertical-align: middle;\n",
       "    }\n",
       "\n",
       "    .dataframe tbody tr th {\n",
       "        vertical-align: top;\n",
       "    }\n",
       "\n",
       "    .dataframe thead th {\n",
       "        text-align: right;\n",
       "    }\n",
       "</style>\n",
       "<table border=\"1\" class=\"dataframe\">\n",
       "  <thead>\n",
       "    <tr style=\"text-align: right;\">\n",
       "      <th></th>\n",
       "      <th>movie id</th>\n",
       "      <th>movie title</th>\n",
       "      <th>genre</th>\n",
       "      <th>user id</th>\n",
       "      <th>item id</th>\n",
       "      <th>rating</th>\n",
       "      <th>timestamp</th>\n",
       "    </tr>\n",
       "  </thead>\n",
       "  <tbody>\n",
       "    <tr>\n",
       "      <th>0</th>\n",
       "      <td>2844.0</td>\n",
       "      <td>Fantômas - À l'ombre de la guillotine (1913)</td>\n",
       "      <td>Crime|Drama</td>\n",
       "      <td>1</td>\n",
       "      <td>1074638</td>\n",
       "      <td>7</td>\n",
       "      <td>1365029107</td>\n",
       "    </tr>\n",
       "    <tr>\n",
       "      <th>1</th>\n",
       "      <td>4936.0</td>\n",
       "      <td>The Bank (1915)</td>\n",
       "      <td>Comedy|Short</td>\n",
       "      <td>1</td>\n",
       "      <td>1853728</td>\n",
       "      <td>8</td>\n",
       "      <td>1366576639</td>\n",
       "    </tr>\n",
       "    <tr>\n",
       "      <th>2</th>\n",
       "      <td>7264.0</td>\n",
       "      <td>The Rink (1916)</td>\n",
       "      <td>Comedy|Short</td>\n",
       "      <td>2</td>\n",
       "      <td>104257</td>\n",
       "      <td>8</td>\n",
       "      <td>1364690142</td>\n",
       "    </tr>\n",
       "    <tr>\n",
       "      <th>3</th>\n",
       "      <td>8133.0</td>\n",
       "      <td>The Immigrant (1917)</td>\n",
       "      <td>Short|Comedy|Drama|Romance</td>\n",
       "      <td>2</td>\n",
       "      <td>1259521</td>\n",
       "      <td>8</td>\n",
       "      <td>1364118447</td>\n",
       "    </tr>\n",
       "    <tr>\n",
       "      <th>4</th>\n",
       "      <td>9968.0</td>\n",
       "      <td>Broken Blossoms or The Yellow Man and the Girl...</td>\n",
       "      <td>Drama|Romance</td>\n",
       "      <td>2</td>\n",
       "      <td>1991245</td>\n",
       "      <td>7</td>\n",
       "      <td>1364117717</td>\n",
       "    </tr>\n",
       "  </tbody>\n",
       "</table>\n",
       "</div>"
      ],
      "text/plain": [
       "   movie id                                        movie title  \\\n",
       "0    2844.0       Fantômas - À l'ombre de la guillotine (1913)   \n",
       "1    4936.0                                    The Bank (1915)   \n",
       "2    7264.0                                    The Rink (1916)   \n",
       "3    8133.0                               The Immigrant (1917)   \n",
       "4    9968.0  Broken Blossoms or The Yellow Man and the Girl...   \n",
       "\n",
       "                        genre  user id  item id  rating   timestamp  \n",
       "0                 Crime|Drama        1  1074638       7  1365029107  \n",
       "1                Comedy|Short        1  1853728       8  1366576639  \n",
       "2                Comedy|Short        2   104257       8  1364690142  \n",
       "3  Short|Comedy|Drama|Romance        2  1259521       8  1364118447  \n",
       "4               Drama|Romance        2  1991245       7  1364117717  "
      ]
     },
     "execution_count": 31,
     "metadata": {},
     "output_type": "execute_result"
    }
   ],
   "source": [
    "moviesRating.head()"
   ]
  },
  {
   "cell_type": "code",
   "execution_count": 32,
   "id": "fitted-expansion",
   "metadata": {},
   "outputs": [
    {
     "data": {
      "text/html": [
       "<div>\n",
       "<style scoped>\n",
       "    .dataframe tbody tr th:only-of-type {\n",
       "        vertical-align: middle;\n",
       "    }\n",
       "\n",
       "    .dataframe tbody tr th {\n",
       "        vertical-align: top;\n",
       "    }\n",
       "\n",
       "    .dataframe thead th {\n",
       "        text-align: right;\n",
       "    }\n",
       "</style>\n",
       "<table border=\"1\" class=\"dataframe\">\n",
       "  <thead>\n",
       "    <tr style=\"text-align: right;\">\n",
       "      <th></th>\n",
       "      <th>movie id</th>\n",
       "      <th>movie title</th>\n",
       "      <th>genre</th>\n",
       "      <th>user id</th>\n",
       "      <th>item id</th>\n",
       "      <th>rating</th>\n",
       "      <th>timestamp</th>\n",
       "    </tr>\n",
       "  </thead>\n",
       "  <tbody>\n",
       "    <tr>\n",
       "      <th>0</th>\n",
       "      <td>2844.0</td>\n",
       "      <td>Fantômas - À l'ombre de la guillotine (1913)</td>\n",
       "      <td>Crime|Drama</td>\n",
       "      <td>1</td>\n",
       "      <td>1074638</td>\n",
       "      <td>7</td>\n",
       "      <td>1365029107</td>\n",
       "    </tr>\n",
       "    <tr>\n",
       "      <th>54</th>\n",
       "      <td>23817.0</td>\n",
       "      <td>Blondie Johnson (1933)</td>\n",
       "      <td>Crime|Drama</td>\n",
       "      <td>14</td>\n",
       "      <td>59578</td>\n",
       "      <td>9</td>\n",
       "      <td>1366185297</td>\n",
       "    </tr>\n",
       "    <tr>\n",
       "      <th>208</th>\n",
       "      <td>40522.0</td>\n",
       "      <td>Ladri di biciclette (1948)</td>\n",
       "      <td>Crime|Drama</td>\n",
       "      <td>38</td>\n",
       "      <td>39694</td>\n",
       "      <td>6</td>\n",
       "      <td>1364270301</td>\n",
       "    </tr>\n",
       "    <tr>\n",
       "      <th>236</th>\n",
       "      <td>42876.0</td>\n",
       "      <td>Rashômon (1950)</td>\n",
       "      <td>Crime|Drama</td>\n",
       "      <td>43</td>\n",
       "      <td>2125435</td>\n",
       "      <td>2</td>\n",
       "      <td>1363718313</td>\n",
       "    </tr>\n",
       "    <tr>\n",
       "      <th>251</th>\n",
       "      <td>44515.0</td>\n",
       "      <td>Cosh Boy (1953)</td>\n",
       "      <td>Crime|Drama</td>\n",
       "      <td>45</td>\n",
       "      <td>1772424</td>\n",
       "      <td>8</td>\n",
       "      <td>1368852402</td>\n",
       "    </tr>\n",
       "  </tbody>\n",
       "</table>\n",
       "</div>"
      ],
      "text/plain": [
       "     movie id                                   movie title        genre  \\\n",
       "0      2844.0  Fantômas - À l'ombre de la guillotine (1913)  Crime|Drama   \n",
       "54    23817.0                        Blondie Johnson (1933)  Crime|Drama   \n",
       "208   40522.0                    Ladri di biciclette (1948)  Crime|Drama   \n",
       "236   42876.0                               Rashômon (1950)  Crime|Drama   \n",
       "251   44515.0                               Cosh Boy (1953)  Crime|Drama   \n",
       "\n",
       "     user id  item id  rating   timestamp  \n",
       "0          1  1074638       7  1365029107  \n",
       "54        14    59578       9  1366185297  \n",
       "208       38    39694       6  1364270301  \n",
       "236       43  2125435       2  1363718313  \n",
       "251       45  1772424       8  1368852402  "
      ]
     },
     "execution_count": 32,
     "metadata": {},
     "output_type": "execute_result"
    }
   ],
   "source": [
    "moviesRating[moviesRating['genre'] == 'Crime|Drama'].head()"
   ]
  },
  {
   "cell_type": "code",
   "execution_count": 33,
   "id": "sharing-reality",
   "metadata": {},
   "outputs": [
    {
     "data": {
      "text/html": [
       "<div>\n",
       "<style scoped>\n",
       "    .dataframe tbody tr th:only-of-type {\n",
       "        vertical-align: middle;\n",
       "    }\n",
       "\n",
       "    .dataframe tbody tr th {\n",
       "        vertical-align: top;\n",
       "    }\n",
       "\n",
       "    .dataframe thead th {\n",
       "        text-align: right;\n",
       "    }\n",
       "</style>\n",
       "<table border=\"1\" class=\"dataframe\">\n",
       "  <thead>\n",
       "    <tr style=\"text-align: right;\">\n",
       "      <th></th>\n",
       "      <th>movie id</th>\n",
       "      <th>movie title</th>\n",
       "      <th>genre</th>\n",
       "      <th>user id</th>\n",
       "      <th>item id</th>\n",
       "      <th>rating</th>\n",
       "      <th>timestamp</th>\n",
       "    </tr>\n",
       "  </thead>\n",
       "  <tbody>\n",
       "    <tr>\n",
       "      <th>1</th>\n",
       "      <td>4936.0</td>\n",
       "      <td>The Bank (1915)</td>\n",
       "      <td>Comedy|Short</td>\n",
       "      <td>1</td>\n",
       "      <td>1853728</td>\n",
       "      <td>8</td>\n",
       "      <td>1366576639</td>\n",
       "    </tr>\n",
       "    <tr>\n",
       "      <th>2</th>\n",
       "      <td>7264.0</td>\n",
       "      <td>The Rink (1916)</td>\n",
       "      <td>Comedy|Short</td>\n",
       "      <td>2</td>\n",
       "      <td>104257</td>\n",
       "      <td>8</td>\n",
       "      <td>1364690142</td>\n",
       "    </tr>\n",
       "    <tr>\n",
       "      <th>3506</th>\n",
       "      <td>359715.0</td>\n",
       "      <td>My Best Friend's Birthday (1987)</td>\n",
       "      <td>Comedy|Short</td>\n",
       "      <td>779</td>\n",
       "      <td>450259</td>\n",
       "      <td>9</td>\n",
       "      <td>1365557265</td>\n",
       "    </tr>\n",
       "  </tbody>\n",
       "</table>\n",
       "</div>"
      ],
      "text/plain": [
       "      movie id                       movie title         genre  user id  \\\n",
       "1       4936.0                   The Bank (1915)  Comedy|Short        1   \n",
       "2       7264.0                   The Rink (1916)  Comedy|Short        2   \n",
       "3506  359715.0  My Best Friend's Birthday (1987)  Comedy|Short      779   \n",
       "\n",
       "      item id  rating   timestamp  \n",
       "1     1853728       8  1366576639  \n",
       "2      104257       8  1364690142  \n",
       "3506   450259       9  1365557265  "
      ]
     },
     "execution_count": 33,
     "metadata": {},
     "output_type": "execute_result"
    }
   ],
   "source": [
    "moviesRating[moviesRating['genre'] == 'Comedy|Short'].head()\n",
    "#Since the head() function outputs the first 10 items, we can deduct that only three movies fall in the \n",
    "#Comedy/short category"
   ]
  },
  {
   "cell_type": "code",
   "execution_count": 34,
   "id": "front-proof",
   "metadata": {},
   "outputs": [],
   "source": [
    "#moviesRating.loc[0] #First item (row) in dataframe"
   ]
  },
  {
   "cell_type": "code",
   "execution_count": 37,
   "id": "fancy-homeless",
   "metadata": {},
   "outputs": [
    {
     "data": {
      "text/html": [
       "<div>\n",
       "<style scoped>\n",
       "    .dataframe tbody tr th:only-of-type {\n",
       "        vertical-align: middle;\n",
       "    }\n",
       "\n",
       "    .dataframe tbody tr th {\n",
       "        vertical-align: top;\n",
       "    }\n",
       "\n",
       "    .dataframe thead th {\n",
       "        text-align: right;\n",
       "    }\n",
       "</style>\n",
       "<table border=\"1\" class=\"dataframe\">\n",
       "  <thead>\n",
       "    <tr style=\"text-align: right;\">\n",
       "      <th></th>\n",
       "      <th>movie title</th>\n",
       "      <th>genre</th>\n",
       "    </tr>\n",
       "  </thead>\n",
       "  <tbody>\n",
       "    <tr>\n",
       "      <th>0</th>\n",
       "      <td>Fantômas - À l'ombre de la guillotine (1913)</td>\n",
       "      <td>Crime|Drama</td>\n",
       "    </tr>\n",
       "    <tr>\n",
       "      <th>1</th>\n",
       "      <td>The Bank (1915)</td>\n",
       "      <td>Comedy|Short</td>\n",
       "    </tr>\n",
       "    <tr>\n",
       "      <th>2</th>\n",
       "      <td>The Rink (1916)</td>\n",
       "      <td>Comedy|Short</td>\n",
       "    </tr>\n",
       "    <tr>\n",
       "      <th>3</th>\n",
       "      <td>The Immigrant (1917)</td>\n",
       "      <td>Short|Comedy|Drama|Romance</td>\n",
       "    </tr>\n",
       "    <tr>\n",
       "      <th>4</th>\n",
       "      <td>Broken Blossoms or The Yellow Man and the Girl...</td>\n",
       "      <td>Drama|Romance</td>\n",
       "    </tr>\n",
       "    <tr>\n",
       "      <th>5</th>\n",
       "      <td>The Son of Tarzan (1920)</td>\n",
       "      <td>Action|Adventure</td>\n",
       "    </tr>\n",
       "    <tr>\n",
       "      <th>6</th>\n",
       "      <td>The Kid (1921)</td>\n",
       "      <td>Comedy|Drama|Family</td>\n",
       "    </tr>\n",
       "    <tr>\n",
       "      <th>7</th>\n",
       "      <td>Dr. Mabuse, der Spieler - Ein Bild der Zeit (1...</td>\n",
       "      <td>Crime|Mystery|Thriller</td>\n",
       "    </tr>\n",
       "    <tr>\n",
       "      <th>8</th>\n",
       "      <td>Nanook of the North (1922)</td>\n",
       "      <td>Documentary</td>\n",
       "    </tr>\n",
       "    <tr>\n",
       "      <th>9</th>\n",
       "      <td>Nosferatu, eine Symphonie des Grauens (1922)</td>\n",
       "      <td>Horror</td>\n",
       "    </tr>\n",
       "    <tr>\n",
       "      <th>10</th>\n",
       "      <td>The Hunchback of Notre Dame (1923)</td>\n",
       "      <td>Drama|Romance</td>\n",
       "    </tr>\n",
       "  </tbody>\n",
       "</table>\n",
       "</div>"
      ],
      "text/plain": [
       "                                          movie title  \\\n",
       "0        Fantômas - À l'ombre de la guillotine (1913)   \n",
       "1                                     The Bank (1915)   \n",
       "2                                     The Rink (1916)   \n",
       "3                                The Immigrant (1917)   \n",
       "4   Broken Blossoms or The Yellow Man and the Girl...   \n",
       "5                            The Son of Tarzan (1920)   \n",
       "6                                      The Kid (1921)   \n",
       "7   Dr. Mabuse, der Spieler - Ein Bild der Zeit (1...   \n",
       "8                          Nanook of the North (1922)   \n",
       "9        Nosferatu, eine Symphonie des Grauens (1922)   \n",
       "10                 The Hunchback of Notre Dame (1923)   \n",
       "\n",
       "                         genre  \n",
       "0                  Crime|Drama  \n",
       "1                 Comedy|Short  \n",
       "2                 Comedy|Short  \n",
       "3   Short|Comedy|Drama|Romance  \n",
       "4                Drama|Romance  \n",
       "5             Action|Adventure  \n",
       "6          Comedy|Drama|Family  \n",
       "7       Crime|Mystery|Thriller  \n",
       "8                  Documentary  \n",
       "9                       Horror  \n",
       "10               Drama|Romance  "
      ]
     },
     "execution_count": 37,
     "metadata": {},
     "output_type": "execute_result"
    }
   ],
   "source": [
    "moviesRating.loc[0:10, ['movie title', 'genre']]"
   ]
  },
  {
   "cell_type": "code",
   "execution_count": null,
   "id": "acute-reasoning",
   "metadata": {},
   "outputs": [],
   "source": []
  }
 ],
 "metadata": {
  "kernelspec": {
   "display_name": "Python 3",
   "language": "python",
   "name": "python3"
  },
  "language_info": {
   "codemirror_mode": {
    "name": "ipython",
    "version": 3
   },
   "file_extension": ".py",
   "mimetype": "text/x-python",
   "name": "python",
   "nbconvert_exporter": "python",
   "pygments_lexer": "ipython3",
   "version": "3.8.0"
  }
 },
 "nbformat": 4,
 "nbformat_minor": 5
}
